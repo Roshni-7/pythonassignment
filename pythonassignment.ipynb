{
  "nbformat": 4,
  "nbformat_minor": 0,
  "metadata": {
    "colab": {
      "provenance": []
    },
    "kernelspec": {
      "name": "python3",
      "display_name": "Python 3"
    },
    "language_info": {
      "name": "python"
    }
  },
  "cells": [
    {
      "cell_type": "code",
      "execution_count": null,
      "metadata": {
        "id": "PcX7MgnM96Ff"
      },
      "outputs": [],
      "source": []
    },
    {
      "cell_type": "markdown",
      "source": [
        "1.Write a Python program which accepts the radius of a circle from the user and compute the area"
      ],
      "metadata": {
        "id": "U-glREnS-Dz2"
      }
    },
    {
      "cell_type": "code",
      "source": [
        "\n",
        "import math\n",
        "radius=int(input(\"Enter the radius of circle\"))\n",
        "print(\"Area of circle is :\",math.pi*(radius**2))"
      ],
      "metadata": {
        "colab": {
          "base_uri": "https://localhost:8080/"
        },
        "id": "PAYkOlWU-LAx",
        "outputId": "9cafe772-6833-4f69-94ed-2f2e26315abb"
      },
      "execution_count": 1,
      "outputs": [
        {
          "output_type": "stream",
          "name": "stdout",
          "text": [
            "Enter the radius of circle10\n",
            "Area of circle is : 314.1592653589793\n"
          ]
        }
      ]
    },
    {
      "cell_type": "markdown",
      "source": [
        "2.Write a Python Program to accept the details of a student like name, roll number and mark and display it."
      ],
      "metadata": {
        "id": "ZKTFjwAH-R5e"
      }
    },
    {
      "cell_type": "code",
      "source": [
        "name=input(\"Enter the name\")\n",
        "roll=input(\"Enter the roll number\")\n",
        "mark=input(\"Enter the mark\")\n",
        "print(\"Name:\",name+\"\\n\"+\"Roll No:\",roll+\"\\n\"+\"Mark:\",mark)"
      ],
      "metadata": {
        "colab": {
          "base_uri": "https://localhost:8080/"
        },
        "id": "tdqWxAUr-eQA",
        "outputId": "2579e1ae-fb3b-4543-ea6d-3c0c3aa35fe1"
      },
      "execution_count": 2,
      "outputs": [
        {
          "output_type": "stream",
          "name": "stdout",
          "text": [
            "Enter the nameRoshni\n",
            "Enter the roll number7\n",
            "Enter the mark80\n",
            "Name: Roshni\n",
            "Roll No: 7\n",
            "Mark: 80\n"
          ]
        }
      ]
    },
    {
      "cell_type": "markdown",
      "source": [
        "3.Write a Python program to get the largest number from a list."
      ],
      "metadata": {
        "id": "2zXlm_eM-EM-"
      }
    },
    {
      "cell_type": "code",
      "source": [
        "num=[12,3,47,10]\n",
        "largest=num[0]\n",
        "for i in num:\n",
        "  if (i>largest):\n",
        "    largest=i\n",
        "  else:\n",
        "    continue\n",
        "print(largest,\"is the largest number\")"
      ],
      "metadata": {
        "colab": {
          "base_uri": "https://localhost:8080/"
        },
        "id": "e8GIK0XZ-zNZ",
        "outputId": "5c963a4e-4fb7-4f96-f985-47343818e0d0"
      },
      "execution_count": 3,
      "outputs": [
        {
          "output_type": "stream",
          "name": "stdout",
          "text": [
            "47 is the largest number\n"
          ]
        }
      ]
    },
    {
      "cell_type": "markdown",
      "source": [
        "4.Given a range of first 10 numbers, write a Python program to iterate from start number to the end number and print the sum of the current number and previous number."
      ],
      "metadata": {
        "id": "WFcNSXIp-7kd"
      }
    },
    {
      "cell_type": "code",
      "source": [
        "start=int(input(\"enter the starting number\"))\n",
        "end=int(input(\"enter the ending number\"))\n",
        "for n in range(start,end+1):\n",
        "  print(\"current number\",n)\n",
        "  print(\"previous number\",n-1)\n",
        "  print(\"sum is\",(n+(n-1)))"
      ],
      "metadata": {
        "colab": {
          "base_uri": "https://localhost:8080/"
        },
        "id": "dpAKR5JR--Iq",
        "outputId": "19f56c2f-75c0-4749-e166-4aa0025f3a1f"
      },
      "execution_count": 4,
      "outputs": [
        {
          "output_type": "stream",
          "name": "stdout",
          "text": [
            "enter the starting number5\n",
            "enter the ending number20\n",
            "current number 5\n",
            "previous number 4\n",
            "sum is 9\n",
            "current number 6\n",
            "previous number 5\n",
            "sum is 11\n",
            "current number 7\n",
            "previous number 6\n",
            "sum is 13\n",
            "current number 8\n",
            "previous number 7\n",
            "sum is 15\n",
            "current number 9\n",
            "previous number 8\n",
            "sum is 17\n",
            "current number 10\n",
            "previous number 9\n",
            "sum is 19\n",
            "current number 11\n",
            "previous number 10\n",
            "sum is 21\n",
            "current number 12\n",
            "previous number 11\n",
            "sum is 23\n",
            "current number 13\n",
            "previous number 12\n",
            "sum is 25\n",
            "current number 14\n",
            "previous number 13\n",
            "sum is 27\n",
            "current number 15\n",
            "previous number 14\n",
            "sum is 29\n",
            "current number 16\n",
            "previous number 15\n",
            "sum is 31\n",
            "current number 17\n",
            "previous number 16\n",
            "sum is 33\n",
            "current number 18\n",
            "previous number 17\n",
            "sum is 35\n",
            "current number 19\n",
            "previous number 18\n",
            "sum is 37\n",
            "current number 20\n",
            "previous number 19\n",
            "sum is 39\n"
          ]
        }
      ]
    },
    {
      "cell_type": "markdown",
      "source": [
        "5.Write a Python program to print only those numbers which are divisible of 5."
      ],
      "metadata": {
        "id": "q7CqSdXd-7n5"
      }
    },
    {
      "cell_type": "code",
      "source": [
        "num=[10,20,33,46,55]\n",
        "div5=[]\n",
        "for i in num:\n",
        "  if (i%5==0):\n",
        "    div5.append(i)\n",
        "  else:\n",
        "    continue\n",
        "print(div5)"
      ],
      "metadata": {
        "colab": {
          "base_uri": "https://localhost:8080/"
        },
        "id": "2cMzK7_Q_LIz",
        "outputId": "2e12e1a5-364e-4b27-aaf7-e8faf87826ed"
      },
      "execution_count": 5,
      "outputs": [
        {
          "output_type": "stream",
          "name": "stdout",
          "text": [
            "[10, 20, 55]\n"
          ]
        }
      ]
    },
    {
      "cell_type": "markdown",
      "source": [
        "6.Write a Python program to check whether a number is prime or not"
      ],
      "metadata": {
        "id": "7jjD9A7Q_N1z"
      }
    },
    {
      "cell_type": "code",
      "source": [
        "num=int(input(\"Enter a number\"))\n",
        "count=0\n",
        "for i in range(2,num):\n",
        "  if (num%i==0):\n",
        "    count=count+1\n",
        "  else:\n",
        "    continue\n",
        "if (count>0):\n",
        "  print(\"number is not prime\")\n",
        "else:\n",
        "  print(\"number is prime\")"
      ],
      "metadata": {
        "colab": {
          "base_uri": "https://localhost:8080/"
        },
        "id": "RPyuklO2_Wrb",
        "outputId": "47948138-e9f2-4177-c22b-cb10e6f28f25"
      },
      "execution_count": 6,
      "outputs": [
        {
          "output_type": "stream",
          "name": "stdout",
          "text": [
            "Enter a number8\n",
            "number is not prime\n"
          ]
        }
      ]
    },
    {
      "cell_type": "markdown",
      "source": [
        "7.Write a Python program to reverse a list using for loop."
      ],
      "metadata": {
        "id": "P1T-iChh_ayH"
      }
    },
    {
      "cell_type": "code",
      "source": [
        "num=[10,40,30,70]\n",
        "out=[]\n",
        "for i in range(len(num)-1,-1,-1):\n",
        "  out.append(num[i])\n",
        "out"
      ],
      "metadata": {
        "colab": {
          "base_uri": "https://localhost:8080/"
        },
        "id": "S38LK6nT_gzK",
        "outputId": "0b6ecb3c-7be8-4f26-9ccd-5bf73ffd0582"
      },
      "execution_count": 7,
      "outputs": [
        {
          "output_type": "execute_result",
          "data": {
            "text/plain": [
              "[70, 30, 40, 10]"
            ]
          },
          "metadata": {},
          "execution_count": 7
        }
      ]
    },
    {
      "cell_type": "markdown",
      "source": [
        "8.Write a Python program to print the following pattern."
      ],
      "metadata": {
        "id": "iZJRhCoR_kil"
      }
    },
    {
      "cell_type": "code",
      "source": [
        "for i in range(10):\n",
        "  print(\"\\n\")\n",
        "  for j in range(i):\n",
        "    print(\"*\",end=\"\")"
      ],
      "metadata": {
        "colab": {
          "base_uri": "https://localhost:8080/"
        },
        "id": "Jcub-d1b_sUs",
        "outputId": "ea1bfc98-502b-44e5-b240-07c639c93463"
      },
      "execution_count": 9,
      "outputs": [
        {
          "output_type": "stream",
          "name": "stdout",
          "text": [
            "\n",
            "\n",
            "\n",
            "\n",
            "*\n",
            "\n",
            "**\n",
            "\n",
            "***\n",
            "\n",
            "****\n",
            "\n",
            "*****\n",
            "\n",
            "******\n",
            "\n",
            "*******\n",
            "\n",
            "********\n",
            "\n",
            "*********"
          ]
        }
      ]
    },
    {
      "cell_type": "markdown",
      "source": [
        "9.Write a Python program to find the maximum of three numbers"
      ],
      "metadata": {
        "id": "h_RmywyQ_0G0"
      }
    },
    {
      "cell_type": "code",
      "source": [
        "num1=int(input(\"enter the first number\"))\n",
        "num2=int(input(\"enter the second number\"))\n",
        "num3=int(input(\"eneter the third number\"))\n",
        "if (num1>num2):\n",
        "  if (num1>num3):\n",
        "    print(\"maximum is :\",num1)\n",
        "  else:\n",
        "    print(\"maximum is :\",num3)\n",
        "else:\n",
        "  if (num2>num3):\n",
        "    print(\"maximum is :\",num2)\n",
        "  else:\n",
        "    print(\"maximum is :\",num3)"
      ],
      "metadata": {
        "colab": {
          "base_uri": "https://localhost:8080/"
        },
        "id": "WXqqZd7q_3Wg",
        "outputId": "f3f2bb58-c44a-4965-d228-ab2222c1ae05"
      },
      "execution_count": 11,
      "outputs": [
        {
          "output_type": "stream",
          "name": "stdout",
          "text": [
            "enter the first number55\n",
            "enter the second number23\n",
            "eneter the third number11\n",
            "maximum is : 55\n"
          ]
        }
      ]
    },
    {
      "cell_type": "markdown",
      "source": [
        "10.Write a Python program to construct the following pattern, using a nested for loop"
      ],
      "metadata": {
        "id": "j7c4C6EkDwou"
      }
    },
    {
      "cell_type": "code",
      "source": [
        "for i in range(10):\n",
        "  print(\"\\n\")\n",
        "  if i>5:\n",
        "    i=10-i\n",
        "  for j in range(i):\n",
        "    print(\"*\",end=\"\")"
      ],
      "metadata": {
        "colab": {
          "base_uri": "https://localhost:8080/"
        },
        "id": "Ih58S8i9Dx6z",
        "outputId": "0414970d-0e7f-4221-8940-5c2249186729"
      },
      "execution_count": 25,
      "outputs": [
        {
          "output_type": "stream",
          "name": "stdout",
          "text": [
            "\n",
            "\n",
            "\n",
            "\n",
            "*\n",
            "\n",
            "**\n",
            "\n",
            "***\n",
            "\n",
            "****\n",
            "\n",
            "*****\n",
            "\n",
            "****\n",
            "\n",
            "***\n",
            "\n",
            "**\n",
            "\n",
            "*"
          ]
        }
      ]
    },
    {
      "cell_type": "markdown",
      "source": [
        "PYTHON PRACTICE PROBLEM 2"
      ],
      "metadata": {
        "id": "fQBjr036_9xo"
      }
    },
    {
      "cell_type": "markdown",
      "source": [
        "1.Write a Python program to accept a string value from the user and display the count of each character in that string"
      ],
      "metadata": {
        "id": "aqPIo1TLAZLz"
      }
    },
    {
      "cell_type": "code",
      "source": [
        "text=input(\"Enter the string\")\n",
        "characters=set(text)\n",
        "for i in characters:\n",
        "  count=0\n",
        "  for j in text:\n",
        "    if i==j:\n",
        "      count=count+1\n",
        "    else:\n",
        "      continue\n",
        "  print(i,\"=\",count)"
      ],
      "metadata": {
        "colab": {
          "base_uri": "https://localhost:8080/"
        },
        "id": "0rwnrWusAM8i",
        "outputId": "3ca69bec-ed9b-4fc8-d8c6-a1dbe68cff60"
      },
      "execution_count": 12,
      "outputs": [
        {
          "output_type": "stream",
          "name": "stdout",
          "text": [
            "Enter the stringhello\n",
            "e = 1\n",
            "o = 1\n",
            "h = 1\n",
            "l = 2\n"
          ]
        }
      ]
    },
    {
      "cell_type": "markdown",
      "source": [
        "\n",
        "2. Write a Python function to find the maximum of three numbers Sample"
      ],
      "metadata": {
        "id": "t775ALRZAqN4"
      }
    },
    {
      "cell_type": "code",
      "source": [
        "def max(num1,num2,num3):\n",
        "  if (num1>num2):\n",
        "    if (num1>num3):\n",
        "      print(\"maximum is :\",num1)\n",
        "    else:\n",
        "      print(\"maximum is :\",num3)\n",
        "  else:\n",
        "    if (num2>num3):\n",
        "      print(\"maximum is :\",num2)\n",
        "    else:\n",
        "      print(\"maximum is :\",num3)\n",
        "\n",
        "num1=int(input(\"enter 1st number\"))\n",
        "num2=int(input(\"enter 2nd number\"))\n",
        "num3=int(input(\"enetr 3rd number\"))\n",
        "max(num1,num2,num3)"
      ],
      "metadata": {
        "colab": {
          "base_uri": "https://localhost:8080/"
        },
        "id": "e9Kgsm5_AvDY",
        "outputId": "d99fbda7-fb82-45a1-effb-7cea2b7ac98c"
      },
      "execution_count": 13,
      "outputs": [
        {
          "output_type": "stream",
          "name": "stdout",
          "text": [
            "enter 1st number78\n",
            "enter 2nd number95\n",
            "enetr 3rd number74\n",
            "maximum is : 95\n"
          ]
        }
      ]
    },
    {
      "cell_type": "markdown",
      "source": [
        "3.Write a Python function called exponent(base,exp) that returns an integer value of base raises to the power of exp."
      ],
      "metadata": {
        "id": "NSvEo97tA78K"
      }
    },
    {
      "cell_type": "code",
      "source": [
        "def exponent(base,exp):\n",
        "  return (base**(exp))\n",
        "base=int(input(\"enter the base value\"))\n",
        "exp=int(input(\"enter the power value \"))\n",
        "exponent(base,exp)\n",
        ""
      ],
      "metadata": {
        "colab": {
          "base_uri": "https://localhost:8080/"
        },
        "id": "XkzMi28WA87n",
        "outputId": "4ef56e18-c04b-4c32-b809-dd438e620839"
      },
      "execution_count": 14,
      "outputs": [
        {
          "name": "stdout",
          "output_type": "stream",
          "text": [
            "enter the base value5\n",
            "enter the power value 7\n"
          ]
        },
        {
          "output_type": "execute_result",
          "data": {
            "text/plain": [
              "78125"
            ]
          },
          "metadata": {},
          "execution_count": 14
        }
      ]
    },
    {
      "cell_type": "markdown",
      "source": [
        "4.Write a Python function that takes a positive integer and returns the sum of the cube of all the positive integers smaller than the specified number."
      ],
      "metadata": {
        "id": "mUzcHeQ9BHOx"
      }
    },
    {
      "cell_type": "code",
      "source": [
        "def cube(num):\n",
        "  cube=0\n",
        "  for i in range(1,num):\n",
        "    cube=cube+(i**3)\n",
        "  return cube\n",
        "num=int(input(\"enter a positive integer\"))\n",
        "cube(num)"
      ],
      "metadata": {
        "colab": {
          "base_uri": "https://localhost:8080/"
        },
        "id": "8Il6SB2NBQtP",
        "outputId": "33c79e3b-0ce6-4598-aff8-df943e3a144d"
      },
      "execution_count": 16,
      "outputs": [
        {
          "name": "stdout",
          "output_type": "stream",
          "text": [
            "enter a positive integer8\n"
          ]
        },
        {
          "output_type": "execute_result",
          "data": {
            "text/plain": [
              "784"
            ]
          },
          "metadata": {},
          "execution_count": 16
        }
      ]
    },
    {
      "cell_type": "markdown",
      "source": [
        "5.Write a Python program which iterates from 1 to 10. For multiples of 2, print “Fizz” instead of the number and for the multiples of 5, print “Buzz”. For numbers which are multiples of both 2 and 5, print “FizzBuzz”"
      ],
      "metadata": {
        "id": "rZd8-szKBZJ1"
      }
    },
    {
      "cell_type": "code",
      "source": [
        "for i in range(1,11):\n",
        "  if ((i%2==0) & (i%5==0)):\n",
        "    print(\"FizzBuzz\")\n",
        "  elif (i%2==0):\n",
        "    print(\"Fizz\")\n",
        "  elif (i%5==0):\n",
        "    print(\"Buzz\")\n",
        "  else:\n",
        "    print(i)"
      ],
      "metadata": {
        "colab": {
          "base_uri": "https://localhost:8080/"
        },
        "id": "gZXxs0wmBlCG",
        "outputId": "bc20a95a-378e-462b-ec5f-403169a4b311"
      },
      "execution_count": 17,
      "outputs": [
        {
          "output_type": "stream",
          "name": "stdout",
          "text": [
            "1\n",
            "Fizz\n",
            "3\n",
            "Fizz\n",
            "Buzz\n",
            "Fizz\n",
            "7\n",
            "Fizz\n",
            "9\n",
            "FizzBuzz\n"
          ]
        }
      ]
    },
    {
      "cell_type": "markdown",
      "source": [
        "6.Write a Python program to find the most frequent item in a list of numbers"
      ],
      "metadata": {
        "id": "pkTtR6f_Bq0D"
      }
    },
    {
      "cell_type": "code",
      "source": [
        "\n",
        "num=[2,3,4,2,5,2]\n",
        "freq={}\n",
        "for i in num:\n",
        "  count=0\n",
        "  for j in num:\n",
        "    if i==j:\n",
        "      count=count+1\n",
        "    else:\n",
        "      continue\n",
        "  freq[str(i)]=count"
      ],
      "metadata": {
        "id": "CIARbnYVB3Ls"
      },
      "execution_count": 18,
      "outputs": []
    },
    {
      "cell_type": "code",
      "source": [
        "del max\n",
        "\n",
        "for x in num:\n",
        "  if (freq[str(x)]==max(freq.values())):\n",
        "    print(\"most frequent iteam is\",x)\n",
        "    break\n",
        "  else:\n",
        "    continue"
      ],
      "metadata": {
        "colab": {
          "base_uri": "https://localhost:8080/"
        },
        "id": "dPWcNWuCCOYn",
        "outputId": "f77bf3c5-985a-44c8-8fae-f1e713a55490"
      },
      "execution_count": 20,
      "outputs": [
        {
          "output_type": "stream",
          "name": "stdout",
          "text": [
            "most frequent iteam is 2\n"
          ]
        }
      ]
    },
    {
      "cell_type": "markdown",
      "source": [
        "7.Write a Python program to find the sum of squares of the numbers in a list."
      ],
      "metadata": {
        "id": "_7IKIJBGCh9S"
      }
    },
    {
      "cell_type": "code",
      "source": [
        "num=[2,1,3,1]\n",
        "sum=0\n",
        "for i in num:\n",
        "  sum=sum+(i**2)\n",
        "print(sum)"
      ],
      "metadata": {
        "colab": {
          "base_uri": "https://localhost:8080/"
        },
        "id": "sm2gWPLjCZ1P",
        "outputId": "c7d04562-ae6e-4a5a-d233-cccd3a840daa"
      },
      "execution_count": 21,
      "outputs": [
        {
          "output_type": "stream",
          "name": "stdout",
          "text": [
            "15\n"
          ]
        }
      ]
    },
    {
      "cell_type": "markdown",
      "source": [
        "8.Write a Python program using for loop that will iterate from 1 to 15. For each iteration, check if the current number is odd or even, and display the message to the screen as odd or even"
      ],
      "metadata": {
        "id": "62At-YOqCvHl"
      }
    },
    {
      "cell_type": "code",
      "source": [
        "\n",
        "for i in range(1,10):\n",
        "  if (i%2==0):\n",
        "    print(i,\"-even\")\n",
        "  else:\n",
        "    print(i,\"-odd\")"
      ],
      "metadata": {
        "colab": {
          "base_uri": "https://localhost:8080/"
        },
        "id": "GzZovCX5C2FV",
        "outputId": "bb62a00e-e95d-4930-9ed0-488a7482f792"
      },
      "execution_count": 22,
      "outputs": [
        {
          "output_type": "stream",
          "name": "stdout",
          "text": [
            "1 -odd\n",
            "2 -even\n",
            "3 -odd\n",
            "4 -even\n",
            "5 -odd\n",
            "6 -even\n",
            "7 -odd\n",
            "8 -even\n",
            "9 -odd\n"
          ]
        }
      ]
    },
    {
      "cell_type": "markdown",
      "source": [
        "9.Write a Python program to convert temperatures to and from Celsius Fahrenheit. [Formula: c/5=f-32/9 where c=temperature in Celsius and f= temperature in Fahrenheit.]"
      ],
      "metadata": {
        "id": "Wqu8UK3LC8jl"
      }
    },
    {
      "cell_type": "code",
      "source": [
        "temp=int(input(\"enter the temperature in fahrenheit\"))\n",
        "print(\"Temperature in celsius\",((temp-32)*5/9))"
      ],
      "metadata": {
        "colab": {
          "base_uri": "https://localhost:8080/"
        },
        "id": "U1lMkwemDGlC",
        "outputId": "36ae43ec-1e07-4496-b223-d6df292fe8bd"
      },
      "execution_count": 23,
      "outputs": [
        {
          "output_type": "stream",
          "name": "stdout",
          "text": [
            "enter the temperature in fahrenheit110\n",
            "Temperature in celsius 43.333333333333336\n"
          ]
        }
      ]
    },
    {
      "cell_type": "markdown",
      "source": [
        "10.Write a Python function to calculate the factorial of a number (a nonnegative integer). The function accepts the number   as an argument"
      ],
      "metadata": {
        "id": "NGrSujexDQW6"
      }
    },
    {
      "cell_type": "code",
      "source": [
        "def fact(num):\n",
        "  factorial=1\n",
        "  for i in range(1,num+1):\n",
        "    factorial=factorial*i\n",
        "  return factorial\n",
        "num=int(input(\"enter a number\"))\n",
        "fact(num)"
      ],
      "metadata": {
        "colab": {
          "base_uri": "https://localhost:8080/"
        },
        "id": "fwq58DTQDYh0",
        "outputId": "96de8388-5a55-4baa-ff9d-2dc4a51984d6"
      },
      "execution_count": 24,
      "outputs": [
        {
          "name": "stdout",
          "output_type": "stream",
          "text": [
            "enter a number7\n"
          ]
        },
        {
          "output_type": "execute_result",
          "data": {
            "text/plain": [
              "5040"
            ]
          },
          "metadata": {},
          "execution_count": 24
        }
      ]
    }
  ]
}